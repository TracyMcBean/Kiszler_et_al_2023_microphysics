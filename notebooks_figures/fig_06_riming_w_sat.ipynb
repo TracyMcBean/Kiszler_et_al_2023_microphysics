{
 "cells": [
  {
   "attachments": {},
   "cell_type": "markdown",
   "metadata": {},
   "source": [
    "# Riming with w and saturation\n",
    "\n",
    "Here only the polar night data is shown. The xtick labels were manually edited by removing some of the labels to provide better readability. "
   ]
  },
  {
   "cell_type": "code",
   "execution_count": 22,
   "metadata": {},
   "outputs": [],
   "source": [
    "import numpy as np\n",
    "import matplotlib.pyplot as plt\n",
    "from matplotlib import colors\n",
    "import pandas as pd \n",
    "import seaborn as sns"
   ]
  },
  {
   "attachments": {},
   "cell_type": "markdown",
   "metadata": {},
   "source": [
    "## 1. Data"
   ]
  },
  {
   "cell_type": "code",
   "execution_count": 23,
   "metadata": {},
   "outputs": [],
   "source": [
    "fig_path='../figures/'\n",
    "\n",
    "# subset of processes which should be used later on:\n",
    "fr_proc_list_sel = [\"rime_fr\"]\n",
    "fr_proc_names_sel = [\"Riming\" ]"
   ]
  },
  {
   "cell_type": "code",
   "execution_count": 24,
   "metadata": {},
   "outputs": [],
   "source": [
    "processed_data_path = '../../../data/processed/'\n",
    "\n",
    "# load data\n",
    "df_fr_tends = pd.read_csv(processed_data_path + 'df_fr_tends_NDJF_2122.csv')"
   ]
  },
  {
   "cell_type": "code",
   "execution_count": 25,
   "metadata": {},
   "outputs": [
    {
     "data": {
      "text/html": [
       "<div>\n",
       "<style scoped>\n",
       "    .dataframe tbody tr th:only-of-type {\n",
       "        vertical-align: middle;\n",
       "    }\n",
       "\n",
       "    .dataframe tbody tr th {\n",
       "        vertical-align: top;\n",
       "    }\n",
       "\n",
       "    .dataframe thead th {\n",
       "        text-align: right;\n",
       "    }\n",
       "</style>\n",
       "<table border=\"1\" class=\"dataframe\">\n",
       "  <thead>\n",
       "    <tr style=\"text-align: right;\">\n",
       "      <th></th>\n",
       "      <th>rime_fr</th>\n",
       "      <th>T</th>\n",
       "      <th>W</th>\n",
       "      <th>sat_i</th>\n",
       "    </tr>\n",
       "  </thead>\n",
       "  <tbody>\n",
       "    <tr>\n",
       "      <th>count</th>\n",
       "      <td>7.042880e+05</td>\n",
       "      <td>5.277756e+06</td>\n",
       "      <td>5.142344e+06</td>\n",
       "      <td>5.269489e+06</td>\n",
       "    </tr>\n",
       "    <tr>\n",
       "      <th>mean</th>\n",
       "      <td>5.723247e+00</td>\n",
       "      <td>-1.222006e+01</td>\n",
       "      <td>4.963834e-02</td>\n",
       "      <td>9.859338e-01</td>\n",
       "    </tr>\n",
       "    <tr>\n",
       "      <th>std</th>\n",
       "      <td>1.384173e+01</td>\n",
       "      <td>6.384733e+00</td>\n",
       "      <td>3.112475e-01</td>\n",
       "      <td>1.214592e-01</td>\n",
       "    </tr>\n",
       "    <tr>\n",
       "      <th>min</th>\n",
       "      <td>1.059479e-08</td>\n",
       "      <td>-3.192815e+01</td>\n",
       "      <td>-1.663699e+00</td>\n",
       "      <td>0.000000e+00</td>\n",
       "    </tr>\n",
       "    <tr>\n",
       "      <th>25%</th>\n",
       "      <td>6.525025e-03</td>\n",
       "      <td>-1.663783e+01</td>\n",
       "      <td>-6.819423e-02</td>\n",
       "      <td>9.118008e-01</td>\n",
       "    </tr>\n",
       "    <tr>\n",
       "      <th>50%</th>\n",
       "      <td>1.346942e-01</td>\n",
       "      <td>-1.192581e+01</td>\n",
       "      <td>5.649089e-03</td>\n",
       "      <td>9.985472e-01</td>\n",
       "    </tr>\n",
       "    <tr>\n",
       "      <th>75%</th>\n",
       "      <td>2.276561e+00</td>\n",
       "      <td>-7.697784e+00</td>\n",
       "      <td>1.170884e-01</td>\n",
       "      <td>1.074271e+00</td>\n",
       "    </tr>\n",
       "    <tr>\n",
       "      <th>max</th>\n",
       "      <td>9.999419e+01</td>\n",
       "      <td>1.629741e+00</td>\n",
       "      <td>4.083391e+00</td>\n",
       "      <td>2.212094e+00</td>\n",
       "    </tr>\n",
       "  </tbody>\n",
       "</table>\n",
       "</div>"
      ],
      "text/plain": [
       "            rime_fr             T             W         sat_i\n",
       "count  7.042880e+05  5.277756e+06  5.142344e+06  5.269489e+06\n",
       "mean   5.723247e+00 -1.222006e+01  4.963834e-02  9.859338e-01\n",
       "std    1.384173e+01  6.384733e+00  3.112475e-01  1.214592e-01\n",
       "min    1.059479e-08 -3.192815e+01 -1.663699e+00  0.000000e+00\n",
       "25%    6.525025e-03 -1.663783e+01 -6.819423e-02  9.118008e-01\n",
       "50%    1.346942e-01 -1.192581e+01  5.649089e-03  9.985472e-01\n",
       "75%    2.276561e+00 -7.697784e+00  1.170884e-01  1.074271e+00\n",
       "max    9.999419e+01  1.629741e+00  4.083391e+00  2.212094e+00"
      ]
     },
     "metadata": {},
     "output_type": "display_data"
    }
   ],
   "source": [
    "df_fr_tends.iloc[:, 0:11] = df_fr_tends.iloc[:, 0:11].mask(df_fr_tends.iloc[:, 0:11] < 1e-18)\n",
    "\n",
    "# divide each column by the total\n",
    "df_fr_tends_perc = df_fr_tends[fr_proc_list_sel].div(df_fr_tends['total_fr'], axis=0)*100\n",
    "# add the other columns\n",
    "df_fr_tends_perc['T'] = df_fr_tends['T']\n",
    "df_fr_tends_perc['W'] = df_fr_tends['W']\n",
    "df_fr_tends_perc['sat_i'] = df_fr_tends['sat_i']\n",
    "\n",
    "display(df_fr_tends_perc.describe())"
   ]
  },
  {
   "attachments": {},
   "cell_type": "markdown",
   "metadata": {},
   "source": [
    "## 2. Plots"
   ]
  },
  {
   "attachments": {},
   "cell_type": "markdown",
   "metadata": {},
   "source": [
    "### 2.1 Saturation and Wind binning"
   ]
  },
  {
   "cell_type": "code",
   "execution_count": 26,
   "metadata": {},
   "outputs": [
    {
     "name": "stdout",
     "output_type": "stream",
     "text": [
      "[0.4 0.5 0.6 0.7 0.8 0.9 1.  1.1 1.2 1.3]\n"
     ]
    }
   ],
   "source": [
    "sat_i_bins = np.arange(0.4, 1.5, 0.1)\n",
    "\n",
    "df_fr_tends['SI_bins'] = pd.cut(df_fr_tends['sat_i'], bins=sat_i_bins)\n",
    "\n",
    "# make labels for xticks\n",
    "sat_i_bins_labels = sat_i_bins[0:-1]\n",
    "print(sat_i_bins_labels)\n",
    "\n",
    "df_fr_tends_perc['SI_bins'] = pd.cut(df_fr_tends_perc['sat_i'], bins=sat_i_bins)\n"
   ]
  },
  {
   "cell_type": "code",
   "execution_count": 27,
   "metadata": {},
   "outputs": [
    {
     "name": "stdout",
     "output_type": "stream",
     "text": [
      "[-2.9 -2.6 -2.3 -2.  -1.7 -1.4 -1.1 -0.8 -0.5 -0.2  0.1  0.4  0.7  1.\n",
      "  1.3  1.6  1.9  2.2  2.5  2.8]\n"
     ]
    }
   ],
   "source": [
    "w_bins = np.arange(-3, 3, 0.3)\n",
    "df_fr_tends['W_bins'] = pd.cut(df_fr_tends['W'], bins=w_bins)\n",
    "\n",
    "# xticks\n",
    "w_bins_labels =np.arange(-2.9, 3, 0.3)\n",
    "\n",
    "print(w_bins_labels)\n",
    "\n",
    "df_fr_tends_perc['W_bins'] = pd.cut(df_fr_tends_perc['W'], bins=w_bins)"
   ]
  },
  {
   "attachments": {},
   "cell_type": "markdown",
   "metadata": {},
   "source": [
    "Settings for plot so that same color is used as in others etc."
   ]
  },
  {
   "cell_type": "code",
   "execution_count": 28,
   "metadata": {},
   "outputs": [],
   "source": [
    "color_map = sns.color_palette(\"husl\", 6)[::-1]\n",
    "color_riming = color_map[4]\n",
    "\n",
    "process = fr_proc_list_sel[0]\n",
    "nrows=2\n",
    "ncols=2"
   ]
  },
  {
   "cell_type": "code",
   "execution_count": 33,
   "metadata": {},
   "outputs": [
    {
     "name": "stderr",
     "output_type": "stream",
     "text": [
      "/tmp/ipykernel_200179/2287187013.py:10: SettingWithCopyWarning: \n",
      "A value is trying to be set on a copy of a slice from a DataFrame.\n",
      "Try using .loc[row_indexer,col_indexer] = value instead\n",
      "\n",
      "See the caveats in the documentation: https://pandas.pydata.org/pandas-docs/stable/user_guide/indexing.html#returning-a-view-versus-a-copy\n",
      "  df_sub[process] = np.abs(df_sub[process].copy())\n",
      "/tmp/ipykernel_200179/2287187013.py:11: SettingWithCopyWarning: \n",
      "A value is trying to be set on a copy of a slice from a DataFrame.\n",
      "Try using .loc[row_indexer,col_indexer] = value instead\n",
      "\n",
      "See the caveats in the documentation: https://pandas.pydata.org/pandas-docs/stable/user_guide/indexing.html#returning-a-view-versus-a-copy\n",
      "  df_sub[process] = np.log10(df_sub[process].copy())\n"
     ]
    },
    {
     "data": {
      "image/png": "[encoded data removed]",
      "text/plain": [
       "<Figure size 800x800 with 4 Axes>"
      ]
     },
     "metadata": {},
     "output_type": "display_data"
    }
   ],
   "source": [
    "# create a figure with 4 subplots. They should be arranged in 2 rows and 2 columns\n",
    "sns.set_theme(style=\"whitegrid\")\n",
    "\n",
    "\n",
    "fig, axes = plt.subplots(nrows=nrows, ncols=ncols, figsize=(8,8))\n",
    "fig.subplots_adjust(hspace=0.2, wspace=0.2)\n",
    "\n",
    "df_sub = df_fr_tends[np.abs(df_fr_tends[process]) > 1e-18]\n",
    "# convert to log scale\n",
    "df_sub[process] = np.abs(df_sub[process].copy())\n",
    "df_sub[process] = np.log10(df_sub[process].copy())\n",
    "\n",
    "bx = sns.boxplot(ax=axes[0,0], x='W_bins', y=process, data=df_sub,\n",
    "            color=color_riming, fliersize=0, width=0.5)\n",
    "axes[0,0].set_ylim(-19, -5)\n",
    "# Set the xticks and labels for every third value\n",
    "axes[0,0].set_xticks(np.arange(0, len(w_bins_labels), 1))\n",
    "axes[0,0].set_xticklabels(np.round(w_bins_labels,1))\n",
    "\n",
    "bx = sns.boxplot(ax=axes[0,1], x='SI_bins', y=process, data=df_sub,\n",
    "            color=color_riming, fliersize=0, width=0.5)\n",
    "axes[0,1].set_ylim(-19, -5)\n",
    "axes[0,1].set_ylabel('')\n",
    "# make the xtick labels look nice\n",
    "axes[0,1].set_xticklabels(np.round(sat_i_bins_labels,1))\n",
    "axes[0,1].set_xticks(np.arange(0, len(sat_i_bins_labels), 1))\n",
    "\n",
    "# Set the xticks and labels for every third value\n",
    "#axes[0,1].set_xticks(np.arange(0, len(sat_i_bins_labels), 3))\n",
    "#axes[0,1].set_xticklabels(np.round(sat_i_bins_labels[::3],3))\n",
    "\n",
    "\n",
    "# plot with frequency of occurence\n",
    "df_sub = df_fr_tends_perc[df_fr_tends_perc[process] > 1]\n",
    "relative_occ = df_sub['W_bins'].value_counts().sort_index()/df_fr_tends_perc['W_bins'].value_counts().sort_index()*100\n",
    "axes[1, 0].bar(w_bins[:-1],relative_occ, color=color_riming, width=0.3, align='edge', \n",
    "                       edgecolor='black', linewidth=0.5, alpha=0.8, label=process)\n",
    "axes[1,0].set_xlim(-3, 3)\n",
    "\n",
    "relative_occ = df_sub['SI_bins'].value_counts().sort_index()/df_fr_tends_perc['SI_bins'].value_counts().sort_index()*100\n",
    "axes[1, 1].bar(sat_i_bins[:-1],relative_occ, color=color_riming, width=0.1, align='edge', \n",
    "                       edgecolor='black', linewidth=0.5, alpha=0.8, label=process)\n",
    "#axes[1,1].set_xlim(0.4, 1.6)\n",
    "\n",
    "\n",
    "axes[0,0].set_xlabel('')\n",
    "axes[0,1].set_xlabel('')\n",
    "\n",
    "axes[1,0].set_xlabel(r'Vertical wind (m s$^{-1}$)')\n",
    "axes[1,1].set_xlabel(r'Saturation (ice)')\n",
    "axes[0,0].set_ylabel(r'log$_{10}$(Riming tendency)')\n",
    "axes[1,0].set_ylabel('Riming frequency (%)')\n",
    "\n",
    "axes[0,0].text(0.05, 0.94, '(a)', transform=axes[0,0].transAxes, \n",
    "               size=12)\n",
    "axes[1,0].text(0.05, 0.94, '(b)', transform=axes[1,0].transAxes,\n",
    "                size=12)\n",
    "# right column is c and d\n",
    "axes[0,1].text(0.05, 0.94, '(c)', transform=axes[0,1].transAxes,\n",
    "                size=12)\n",
    "axes[1,1].text(0.05, 0.94, '(d)', transform=axes[1,1].transAxes,\n",
    "                size=12)\n",
    "\n",
    "# compute the lowest and highest 5% of the wind distribution\n",
    "w_low = df_fr_tends_perc['W'].quantile(0.01)\n",
    "w_high = df_fr_tends_perc['W'].quantile(0.99)\n",
    "\n",
    "# mark the areas where the lowest 5% of the wind distribution is located and the highest 5% of the wind distribution\n",
    "axes[1,0].axvspan(-3, w_low, alpha=0.2, color='grey')\n",
    "axes[1,0].axvspan(w_high, 3, alpha=0.2, color='grey')\n",
    "\n",
    "\n",
    "plt.savefig(fig_path + 'fig06_riming_w_sat.svg', dpi=300, bbox_inches='tight', format='svg')\n",
    "\n",
    "plt.show()\n"
   ]
  },
  {
   "cell_type": "code",
   "execution_count": 34,
   "metadata": {},
   "outputs": [
    {
     "name": "stdout",
     "output_type": "stream",
     "text": [
      "1.1945284925606756\n"
     ]
    }
   ],
   "source": [
    "print(w_high)"
   ]
  }
 ],
 "metadata": {
  "kernelspec": {
   "display_name": "python3.10",
   "language": "python",
   "name": "python3"
  },
  "language_info": {
   "codemirror_mode": {
    "name": "ipython",
    "version": 3
   },
   "file_extension": ".py",
   "mimetype": "text/x-python",
   "name": "python",
   "nbconvert_exporter": "python",
   "pygments_lexer": "ipython3",
   "version": "3.10.12"
  },
  "orig_nbformat": 4
 },
 "nbformat": 4,
 "nbformat_minor": 2
}
