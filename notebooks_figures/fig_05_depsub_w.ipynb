{
 "cells": [
  {
   "attachments": {},
   "cell_type": "markdown",
   "metadata": {},
   "source": [
    "# Riming with w and saturation\n",
    "\n",
    "Here only the polar night data is shown "
   ]
  },
  {
   "cell_type": "code",
   "execution_count": 1,
   "metadata": {},
   "outputs": [],
   "source": [
    "import numpy as np\n",
    "import matplotlib.pyplot as plt\n",
    "from matplotlib import colors\n",
    "import pandas as pd \n",
    "import seaborn as sns"
   ]
  },
  {
   "attachments": {},
   "cell_type": "markdown",
   "metadata": {},
   "source": [
    "## 1. Data"
   ]
  },
  {
   "cell_type": "code",
   "execution_count": 2,
   "metadata": {},
   "outputs": [],
   "source": [
    "fig_path='../../../plots/publication_plots/paper_wrapper_2023/'\n",
    "\n",
    "# subset of processes which should be used later on:\n",
    "fr_proc_list_sel = [\"deposition_fr\", \"sublimation_fr\"]\n",
    "fr_proc_names_sel = [\"Deposition\", \"Sublimation\"]"
   ]
  },
  {
   "cell_type": "code",
   "execution_count": 3,
   "metadata": {},
   "outputs": [],
   "source": [
    "processed_data_path = '../../../data/processed/'\n",
    "\n",
    "# load data\n",
    "df_fr_tends_pn = pd.read_csv(processed_data_path + 'df_fr_tends_NDJF_2122.csv')\n",
    "df_fr_tends_pd = pd.read_csv(processed_data_path + 'df_fr_tends_MJJA_S21.csv')\n",
    "\n",
    "# combine dataframes\n",
    "df_fr_tends = pd.concat([df_fr_tends_pn, df_fr_tends_pd]).reset_index(drop=True)"
   ]
  },
  {
   "cell_type": "code",
   "execution_count": 4,
   "metadata": {},
   "outputs": [
    {
     "data": {
      "text/html": [
       "<div>\n",
       "<style scoped>\n",
       "    .dataframe tbody tr th:only-of-type {\n",
       "        vertical-align: middle;\n",
       "    }\n",
       "\n",
       "    .dataframe tbody tr th {\n",
       "        vertical-align: top;\n",
       "    }\n",
       "\n",
       "    .dataframe thead th {\n",
       "        text-align: right;\n",
       "    }\n",
       "</style>\n",
       "<table border=\"1\" class=\"dataframe\">\n",
       "  <thead>\n",
       "    <tr style=\"text-align: right;\">\n",
       "      <th></th>\n",
       "      <th>deposition_fr</th>\n",
       "      <th>sublimation_fr</th>\n",
       "      <th>W</th>\n",
       "    </tr>\n",
       "  </thead>\n",
       "  <tbody>\n",
       "    <tr>\n",
       "      <th>count</th>\n",
       "      <td>4.374111e+06</td>\n",
       "      <td>3.653340e+06</td>\n",
       "      <td>1.068749e+07</td>\n",
       "    </tr>\n",
       "    <tr>\n",
       "      <th>mean</th>\n",
       "      <td>9.675129e+01</td>\n",
       "      <td>9.867451e+01</td>\n",
       "      <td>5.726840e-02</td>\n",
       "    </tr>\n",
       "    <tr>\n",
       "      <th>std</th>\n",
       "      <td>1.263224e+01</td>\n",
       "      <td>8.291692e+00</td>\n",
       "      <td>3.173919e-01</td>\n",
       "    </tr>\n",
       "    <tr>\n",
       "      <th>min</th>\n",
       "      <td>3.805338e-03</td>\n",
       "      <td>2.726710e-04</td>\n",
       "      <td>-4.487321e+00</td>\n",
       "    </tr>\n",
       "    <tr>\n",
       "      <th>25%</th>\n",
       "      <td>9.985462e+01</td>\n",
       "      <td>1.000000e+02</td>\n",
       "      <td>-4.662419e-02</td>\n",
       "    </tr>\n",
       "    <tr>\n",
       "      <th>50%</th>\n",
       "      <td>1.000000e+02</td>\n",
       "      <td>1.000000e+02</td>\n",
       "      <td>7.687434e-03</td>\n",
       "    </tr>\n",
       "    <tr>\n",
       "      <th>75%</th>\n",
       "      <td>1.000000e+02</td>\n",
       "      <td>1.000000e+02</td>\n",
       "      <td>9.583619e-02</td>\n",
       "    </tr>\n",
       "    <tr>\n",
       "      <th>max</th>\n",
       "      <td>1.000000e+02</td>\n",
       "      <td>1.000000e+02</td>\n",
       "      <td>6.243128e+00</td>\n",
       "    </tr>\n",
       "  </tbody>\n",
       "</table>\n",
       "</div>"
      ],
      "text/plain": [
       "       deposition_fr  sublimation_fr             W\n",
       "count   4.374111e+06    3.653340e+06  1.068749e+07\n",
       "mean    9.675129e+01    9.867451e+01  5.726840e-02\n",
       "std     1.263224e+01    8.291692e+00  3.173919e-01\n",
       "min     3.805338e-03    2.726710e-04 -4.487321e+00\n",
       "25%     9.985462e+01    1.000000e+02 -4.662419e-02\n",
       "50%     1.000000e+02    1.000000e+02  7.687434e-03\n",
       "75%     1.000000e+02    1.000000e+02  9.583619e-02\n",
       "max     1.000000e+02    1.000000e+02  6.243128e+00"
      ]
     },
     "metadata": {},
     "output_type": "display_data"
    }
   ],
   "source": [
    "df_fr_tends.iloc[:, 0:11] = df_fr_tends.iloc[:, 0:11].mask(df_fr_tends.iloc[:, 0:11] < 1e-18)\n",
    "df_fr_tends_pd.iloc[:, 0:11] = df_fr_tends_pd.iloc[:, 0:11].mask(df_fr_tends_pd.iloc[:, 0:11] < 1e-18)\n",
    "df_fr_tends_pn.iloc[:, 0:11] = df_fr_tends_pn.iloc[:, 0:11].mask(df_fr_tends_pn.iloc[:, 0:11] < 1e-18)\n",
    "\n",
    "# divide each column by the total\n",
    "df_fr_tends_perc = df_fr_tends[fr_proc_list_sel].div(df_fr_tends['total_fr'], axis=0)*100\n",
    "df_fr_tends_perc_pn = df_fr_tends_pn[fr_proc_list_sel].div(df_fr_tends_pn['total_fr'], axis=0)*100\n",
    "df_fr_tends_perc_pd = df_fr_tends_pd[fr_proc_list_sel].div(df_fr_tends_pd['total_fr'], axis=0)*100\n",
    "\n",
    "# add the other columns\n",
    "df_fr_tends_perc['W'] = df_fr_tends['W']\n",
    "df_fr_tends_perc_pn['W'] = df_fr_tends_pn['W']\n",
    "df_fr_tends_perc_pd['W'] = df_fr_tends_pd['W']\n",
    "\n",
    "display(df_fr_tends_perc.describe())"
   ]
  },
  {
   "attachments": {},
   "cell_type": "markdown",
   "metadata": {},
   "source": [
    "## 2. Plots"
   ]
  },
  {
   "attachments": {},
   "cell_type": "markdown",
   "metadata": {},
   "source": [
    "### 2.1 Wind binning\n",
    "\n",
    "The distribution is quite similar for different binning sizes (0.1-0.4) at 0.5 the deposition shows a clearer increase with upwards velocity."
   ]
  },
  {
   "cell_type": "code",
   "execution_count": 5,
   "metadata": {},
   "outputs": [
    {
     "name": "stdout",
     "output_type": "stream",
     "text": [
      "[-2.9 -2.6 -2.3 -2.  -1.7 -1.4 -1.1 -0.8 -0.5 -0.2  0.1  0.4  0.7  1.\n",
      "  1.3  1.6  1.9  2.2  2.5  2.8]\n"
     ]
    }
   ],
   "source": [
    "w_bins = np.arange(-3, 3, 0.3)\n",
    "# xticks\n",
    "w_bins_labels =np.arange(-2.9, 3, 0.3)\n",
    "\n",
    "print(w_bins_labels)\n",
    "\n",
    "df_fr_tends_perc['W_bins'] = pd.cut(df_fr_tends_perc['W'], bins=w_bins)\n",
    "df_fr_tends_perc_pd['W_bins'] = pd.cut(df_fr_tends_perc_pd['W'], bins=w_bins)\n",
    "df_fr_tends_perc_pn['W_bins'] = pd.cut(df_fr_tends_perc_pn['W'], bins=w_bins)"
   ]
  },
  {
   "attachments": {},
   "cell_type": "markdown",
   "metadata": {},
   "source": [
    "Settings for plot so that same color is used as in others etc."
   ]
  },
  {
   "cell_type": "code",
   "execution_count": 6,
   "metadata": {},
   "outputs": [],
   "source": [
    "color_map = sns.color_palette(\"husl\", 6)[::-1]\n",
    "color_dep = color_map[2]\n",
    "color_sub = color_map[3]\n",
    "\n",
    "nrows=1\n",
    "ncols=4"
   ]
  },
  {
   "cell_type": "code",
   "execution_count": 8,
   "metadata": {},
   "outputs": [
    {
     "data": {
      "image/png": "[encoded data removed]",
      "text/plain": [
       "<Figure size 1000x250 with 4 Axes>"
      ]
     },
     "metadata": {},
     "output_type": "display_data"
    }
   ],
   "source": [
    "# create a figure with 4 subplots. They should be arranged in 2 rows and 2 columns\n",
    "sns.set_theme(style=\"whitegrid\")\n",
    "\n",
    "fig, axes = plt.subplots(nrows=nrows, ncols=ncols, figsize=(10,2.5))\n",
    "fig.subplots_adjust(hspace=0.2, wspace=0.2)\n",
    "\n",
    "# plot with frequency of occurence\n",
    "process = fr_proc_list_sel[1]\n",
    "df_sub = df_fr_tends_perc[df_fr_tends_perc[process] > 1]\n",
    "relative_occ = df_sub['W_bins'].value_counts().sort_index()/df_fr_tends_perc['W_bins'].value_counts().sort_index()*100\n",
    "axes[0].bar(w_bins[:-1],relative_occ, color=color_sub, width=0.3, align='edge',\n",
    "             edgecolor='black', linewidth=0.5, alpha=0.8, label=process)\n",
    "\n",
    "process = \"deposition_fr\"\n",
    "df_sub = df_fr_tends_perc[df_fr_tends_perc[process] > 1]\n",
    "relative_occ = df_sub['W_bins'].value_counts().sort_index()/df_fr_tends_perc['W_bins'].value_counts().sort_index()*100\n",
    "axes[1].bar(w_bins[:-1],relative_occ, color=color_dep, width=0.3, align='edge', \n",
    "                       edgecolor='black', linewidth=0.5, alpha=0.8, label=process)\n",
    "\n",
    "df_sub_pd = df_fr_tends_perc_pd[df_fr_tends_perc_pd[process] > 1]\n",
    "relative_occ = df_sub_pd['W_bins'].value_counts().sort_index()/df_fr_tends_perc_pd['W_bins'].value_counts().sort_index()*100\n",
    "axes[2].bar(w_bins[:-1],relative_occ, color=color_dep, width=0.3, align='edge', \n",
    "                       edgecolor='black', linewidth=0.5, alpha=0.8, label=process)\n",
    "\n",
    "df_sub_pn = df_fr_tends_perc_pn[df_fr_tends_perc_pn[process] > 1]\n",
    "relative_occ = df_sub_pn['W_bins'].value_counts().sort_index()/df_fr_tends_perc_pn['W_bins'].value_counts().sort_index()*100\n",
    "axes[3].bar(w_bins[:-1],relative_occ, color=color_dep, width=0.3, align='edge', \n",
    "                       edgecolor='black', linewidth=0.5, alpha=0.8, label=process)\n",
    "\n",
    "for i in range(4):\n",
    "    axes[i].set_xlabel(r'Vertical wind (m s$^{-1}$)')\n",
    "    axes[i].set_ylabel('')\n",
    "    axes[i].set_ylim([0, 90])\n",
    "    axes[i].set_xlim([-3, 3])\n",
    "\n",
    "# don't set the ytick labels for the 2,3,4 subplot\n",
    "axes[1].set_yticklabels([])\n",
    "axes[2].set_yticklabels([])\n",
    "axes[3].set_yticklabels([])\n",
    "\n",
    "axes[0].set_ylabel('Frequency (%)')\n",
    "\n",
    "axes[0].set_title('(a) Sublimation (All)')\n",
    "axes[1].set_title('(b) Deposition (All)')\n",
    "axes[2].set_title('(c) Deposition (PD)')\n",
    "axes[3].set_title('(d) Deposition (PN)')\n",
    "\n",
    "# compute the lowest and highest 5% of the wind distribution\n",
    "w_low = df_fr_tends_perc['W'].quantile(0.01)\n",
    "w_high = df_fr_tends_perc['W'].quantile(0.99)\n",
    "\n",
    "# mark the areas where the lowest 5% of the wind distribution is located and the highest 5% of the wind distribution\n",
    "for i in range(4):\n",
    "    axes[i].axvspan(-3, w_low, alpha=0.2, color='grey')\n",
    "    axes[i].axvspan(w_high, 3, alpha=0.2, color='grey')\n",
    "\n",
    "\n",
    "plt.savefig(fig_path + 'fig_05_depsub_w.png', dpi=300, bbox_inches='tight', format='png')\n",
    "plt.savefig(fig_path + 'fig_05_depsub_w.pdf', bbox_inches='tight', format='pdf')\n",
    "\n",
    "plt.show()\n"
   ]
  }
 ],
 "metadata": {
  "kernelspec": {
   "display_name": "python3.10",
   "language": "python",
   "name": "python3"
  },
  "language_info": {
   "codemirror_mode": {
    "name": "ipython",
    "version": 3
   },
   "file_extension": ".py",
   "mimetype": "text/x-python",
   "name": "python",
   "nbconvert_exporter": "python",
   "pygments_lexer": "ipython3",
   "version": "3.10.12"
  },
  "orig_nbformat": 4
 },
 "nbformat": 4,
 "nbformat_minor": 2
}
