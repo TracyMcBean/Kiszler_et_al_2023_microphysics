{
 "cells": [
  {
   "attachments": {},
   "cell_type": "markdown",
   "metadata": {},
   "source": [
    "# Create data for mixed-phase clouds\n"
   ]
  },
  {
   "cell_type": "code",
   "execution_count": null,
   "metadata": {},
   "outputs": [],
   "source": [
    "import numpy as np\n",
    "import xarray as xr\n",
    "import glob\n",
    "import pandas as pd \n",
    "import dask\n",
    "\n",
    "dask.config.set({\"array.slicing.split_large_chunks\": True}) # this is to avoid memory overload"
   ]
  },
  {
   "cell_type": "code",
   "execution_count": null,
   "metadata": {},
   "outputs": [],
   "source": [
    "# get data\n",
    "datapath_pd = '/low_clouds_datasets/polar_day/'\n",
    "datapath_pn = '/low_clouds_datasets/polar_night/'\n",
    "\n",
    "ds = xr.open_mfdataset(glob.glob(datapath_pd+\"LLC_wrapper_tend_*_ICONv1_v6.nc\")+\n",
    "                       glob.glob(datapath_pd+\"LLC_meteo*_ICONv1_v6.nc\")+\n",
    "                       glob.glob(datapath_pn+\"LLC_wrapper_tend_*_ICONv1_v6.nc\")+\n",
    "                       glob.glob(datapath_pn+\"LLC_meteo*_ICONv1_v6.nc\"),\n",
    "                   combine='by_coords', engine='netcdf4', parallel=True, chunks={'time': 'auto'})\n",
    "# select only levels below 2.5km  \n",
    "level_idx = 111\n",
    "ds_mpc = ds.isel(height_2=slice(level_idx,None), height=slice(level_idx,-1))\n",
    "ds_mpc['W'] = ds_mpc.W.interp(height=ds_mpc.height_2)\n",
    "\n",
    "# set all non cloud values to nan\n",
    "ds_mpc = ds_mpc.where((ds_mpc.QC+ds_mpc.QR+ds_mpc.QH+ds_mpc.QI+ds_mpc.QS+ds_mpc.QG)>1e-8, np.nan)"
   ]
  },
  {
   "cell_type": "code",
   "execution_count": null,
   "metadata": {},
   "outputs": [],
   "source": [
    "# select only mixed-phase periods\n",
    "\n",
    "ds_mpc = ds_mpc.where(( ( ds_mpc.QI+ds_mpc.QS+ds_mpc.QG+ds_mpc.QH) >1e-8) & \n",
    "                           (( ds_mpc.QC + ds_mpc.QR) >1e-8), drop=True)\n",
    "ds_mpc"
   ]
  },
  {
   "cell_type": "code",
   "execution_count": null,
   "metadata": {},
   "outputs": [],
   "source": [
    "# split sublimation and deposition\n",
    "# store positive values of depsub_tend in a new variable\n",
    "ds_mpc['deposition_ice_tend']  = ds_mpc['depsub_ice_tend'].where(ds_mpc['depsub_ice_tend'] > 0)\n",
    "ds_mpc['sublimation_ice_tend'] = ds_mpc['depsub_ice_tend'].where(ds_mpc['depsub_ice_tend'] < 0)\n",
    "# do same for snow, graupel and hail\n",
    "ds_mpc['deposition_snow_tend']     = ds_mpc['depsub_snow_tend'].where(ds_mpc['depsub_snow_tend'] > 0)\n",
    "ds_mpc['sublimation_snow_tend']    = ds_mpc['depsub_snow_tend'].where(ds_mpc['depsub_snow_tend'] < 0)\n",
    "ds_mpc['deposition_graupel_tend']  = ds_mpc['depsub_graupel_tend'].where(ds_mpc['depsub_graupel_tend'] > 0)\n",
    "ds_mpc['sublimation_graupel_tend'] = ds_mpc['depsub_graupel_tend'].where(ds_mpc['depsub_graupel_tend'] < 0)\n",
    "ds_mpc['deposition_hail_tend']     = ds_mpc['depsub_hail_tend'].where(ds_mpc['depsub_hail_tend'] > 0)\n",
    "ds_mpc['sublimation_hail_tend']    = ds_mpc['depsub_hail_tend'].where(ds_mpc['depsub_hail_tend'] < 0)\n",
    "ds_mpc['deposition_atmo_tend']     = ds_mpc['depsub_atmo_tend'].where(ds_mpc['depsub_atmo_tend'] > 0)\n",
    "ds_mpc['sublimation_atmo_tend']    = ds_mpc['depsub_atmo_tend'].where(ds_mpc['depsub_atmo_tend'] < 0)\n",
    "\n",
    "# split condensation and evaporation\n",
    "# store positive values of satad_cloud_tend in a new variable\n",
    "ds_mpc['condensation_cloud_tend'] = ds_mpc['satad_cloud_tend'].where(ds_mpc['satad_cloud_tend'] > 0)\n",
    "ds_mpc['evaporation_cloud_tend']  = ds_mpc['satad_cloud_tend'].where(ds_mpc['satad_cloud_tend'] < 0)\n",
    "ds_mpc['condensation_atmo_tend']  = ds_mpc['satad_atmo_tend'].where(ds_mpc['satad_atmo_tend'] > 0)\n",
    "ds_mpc['evaporation_atmo_tend']   = ds_mpc['satad_atmo_tend'].where(ds_mpc['satad_atmo_tend'] < 0)\n"
   ]
  },
  {
   "cell_type": "code",
   "execution_count": null,
   "metadata": {},
   "outputs": [],
   "source": [
    "# get all tendencies which mention ice, snow, graupel or hail and not total\n",
    "frozen_tend = [tend for tend in ds_mpc.data_vars if ('ice' in tend or 'snow' in tend or 'graupel' in tend \\\n",
    "                                                        or 'hail' in tend) and 'total' not in tend \\\n",
    "                                                        and 'depsub' not in tend ]\n",
    "print(frozen_tend)\n",
    "# compute sum over all tendencies which mention ice, snow, graupel or hail\n",
    "#ds_mpc['total_mass_tend']= ds_mpc[frozen_tend].to_array().sum(dim='variable')\n",
    "# same for liquid water so with rain and cloud\n",
    "liquid_tend = [tend for tend in ds_mpc.data_vars if ('rain' in tend or 'cloud' in tend) \\\n",
    "                                                       and 'total' not in tend and 'satad' not in tend]\n",
    "print(liquid_tend)\n",
    "\n",
    "atmo_tend = [tend for tend in ds_mpc.data_vars if ('atmo' in tend) and 'total' not in tend \\\n",
    "                                 and 'satad' not in tend and 'depsub' not in tend]\n",
    "print(atmo_tend)"
   ]
  },
  {
   "cell_type": "code",
   "execution_count": null,
   "metadata": {},
   "outputs": [],
   "source": [
    "\n",
    "#ds_mpc['total_mass_tend'] = ds_mpc[liquid_tend].to_array().sum(dim='variable')\n",
    "# frozen processes\n",
    "deposition_fr_vars = [var for var in frozen_tend if 'deposition' in var ]\n",
    "sublimation_fr_vars = [var for var in frozen_tend if 'sublimation' in var ]\n",
    "rime_fr_vars = [var for var in frozen_tend if 'rime' in var ]\n",
    "homhet_fr_vars = [var for var in frozen_tend if 'homhet' in var ]\n",
    "c_homfr_fr_vars = [var for var in frozen_tend if 'c_homfr' in var ]\n",
    "fr_col_fr_vars = [var for var in frozen_tend if 'col_' in var]\n",
    "fr_eva_fr_vars = [var for var in frozen_tend if 'eva' in var ]\n",
    "g_to_h_fr_vars = [var for var in frozen_tend if 'g_to_h' in var  ]\n",
    "r_freeze_fr_vars = [var for var in frozen_tend if 'r_freeze' in var ]\n",
    "melt_fr_vars = [var for var in frozen_tend if 'melt' in var ]\n",
    "\n",
    "# liquid processes\n",
    "au_li_vars= [var for var in liquid_tend if 'auSB' in var ]\n",
    "ac_li_vars = [var for var in liquid_tend if 'acSB' in var ]\n",
    "eva_li_vars = [var for var in liquid_tend if 'eva' in var ] # rain evaporation and cloud evaporation both (so includes satad)\n",
    "c_homfr_li_vars = [var for var in liquid_tend if 'homfr' in var ]\n",
    "homhet_li_vars = [var for var in liquid_tend if 'homhet' in var ]\n",
    "rime_li_vars = [var for var in liquid_tend if 'rime' in var ]\n",
    "r_freeze_li_vars = [var for var in liquid_tend if 'r_freeze' in var ]\n",
    "melt_li_vars = [var for var in liquid_tend if 'melt' in var ]\n",
    "cond_li_vars = [var for var in liquid_tend if 'condensation' in var ]\n",
    "ccn_act_li_vars = [var for var in liquid_tend if 'ccn_act' in var ]"
   ]
  },
  {
   "cell_type": "code",
   "execution_count": null,
   "metadata": {},
   "outputs": [],
   "source": [
    "# togethe in a pandas dataframe\n",
    "df_all_tends = pd.DataFrame(ds_mpc[deposition_fr_vars].to_array().sum(dim=\"variable\").values.flatten(),\n",
    "                            columns=['deposition_fr'])\n",
    "#df_fr_tends['deposition'] = ds_mpc[deposition_fr_vars].to_array().sum(dim=\"variable\").values[total_mass > 1e-8].flatten()\n",
    "df_all_tends['sublimation_fr'] = np.abs(ds_mpc[sublimation_fr_vars].to_array().sum(dim=\"variable\").values).flatten()\n",
    "df_all_tends['rime_fr'] = ds_mpc[rime_fr_vars].to_array().sum(dim=\"variable\").values.flatten()\n",
    "df_all_tends['homhet_fr'] = ds_mpc[homhet_fr_vars].to_array().sum(dim=\"variable\").values.flatten()\n",
    "df_all_tends['c_homfr_fr'] = ds_mpc[c_homfr_fr_vars].to_array().sum(dim=\"variable\").values.flatten()\n",
    "df_all_tends['fr_col'] = ds_mpc[fr_col_fr_vars].to_array().sum(dim=\"variable\").values.flatten()\n",
    "df_all_tends['fr_eva_fr'] = np.abs(ds_mpc[fr_eva_fr_vars].to_array().sum(dim=\"variable\").values.flatten())\n",
    "df_all_tends['g_to_h'] = ds_mpc[g_to_h_fr_vars].to_array().sum(dim=\"variable\").values.flatten()\n",
    "df_all_tends['r_freeze_fr'] = ds_mpc[r_freeze_fr_vars].to_array().sum(dim=\"variable\").values.flatten()\n",
    "df_all_tends['melt_fr'] = np.abs(ds_mpc[melt_fr_vars].to_array().sum(dim=\"variable\").values.flatten())\n",
    "\n",
    "# compute sum over all tendencies which mention ice, snow, graupel or hail\n",
    "df_all_tends['total_fr'] = df_all_tends.sum(axis=1)\n",
    "# for liquid water\n",
    "df_all_tends[\"auSB\"] = ds_mpc[au_li_vars].to_array().sum(dim=\"variable\").values.flatten()\n",
    "df_all_tends['acSB'] = ds_mpc[ac_li_vars].to_array().sum(dim=\"variable\").values.flatten()\n",
    "df_all_tends['evaporation_li'] = np.abs(ds_mpc[eva_li_vars].to_array().sum(dim=\"variable\").values.flatten())\n",
    "df_all_tends['c_homfr_li'] = np.abs(ds_mpc[c_homfr_li_vars].to_array().sum(dim=\"variable\").values.flatten())\n",
    "df_all_tends['homhet_li'] = np.abs(ds_mpc[homhet_li_vars].to_array().sum(dim=\"variable\").values.flatten())\n",
    "df_all_tends['rime_li'] = np.abs(ds_mpc[rime_li_vars].to_array().sum(dim=\"variable\").values.flatten())\n",
    "df_all_tends['r_freeze_li'] = np.abs(ds_mpc[r_freeze_li_vars].to_array().sum(dim=\"variable\").values.flatten())\n",
    "df_all_tends['melt_li'] = ds_mpc[melt_li_vars].to_array().sum(dim=\"variable\").values.flatten()\n",
    "df_all_tends['condensation_li'] = ds_mpc[cond_li_vars].to_array().sum(dim=\"variable\").values.flatten()\n",
    "df_all_tends['ccn_act_li'] = ds_mpc[ccn_act_li_vars].to_array().sum(dim=\"variable\").values.flatten()\n",
    "\n",
    "# total tendency                                                            \n",
    "#df_li_tends['total_li'] = df_li_tends.sum(axis=1)\n"
   ]
  },
  {
   "cell_type": "code",
   "execution_count": null,
   "metadata": {},
   "outputs": [],
   "source": [
    "# add masses to dataframe\n",
    "df_all_tends['QI'] = ds_mpc.QI.values.flatten()\n",
    "df_all_tends['QS'] = ds_mpc.QS.values.flatten()\n",
    "df_all_tends['QG'] = ds_mpc.QG.values.flatten()\n",
    "df_all_tends['QH'] = ds_mpc.QH.values.flatten()\n",
    "df_all_tends['QR'] = ds_mpc.QR.values.flatten()\n",
    "df_all_tends['QC'] = ds_mpc.QC.values.flatten()\n",
    "df_all_tends['QV'] = ds_mpc.QV.values.flatten()\n",
    "df_all_tends['frozen mass'] = ds_mpc.QI.values.flatten()+ds_mpc.QS.values.flatten()+ds_mpc.QG.values.flatten()+ds_mpc.QH.values.flatten()\n",
    "df_all_tends['liquid mass'] = ds_mpc.QR.values.flatten()+ds_mpc.QC.values.flatten()\n"
   ]
  },
  {
   "cell_type": "code",
   "execution_count": null,
   "metadata": {},
   "outputs": [],
   "source": [
    "display(df_all_tends.describe()) "
   ]
  },
  {
   "cell_type": "code",
   "execution_count": null,
   "metadata": {},
   "outputs": [],
   "source": [
    "df_all_tends.to_csv('../../../data/processed/df_all_tends_mpc_pn_and_pd.csv')"
   ]
  }
 ],
 "metadata": {
  "kernelspec": {
   "display_name": "python3.10",
   "language": "python",
   "name": "python3"
  },
  "language_info": {
   "codemirror_mode": {
    "name": "ipython",
    "version": 3
   },
   "file_extension": ".py",
   "mimetype": "text/x-python",
   "name": "python",
   "nbconvert_exporter": "python",
   "pygments_lexer": "ipython3",
   "version": "3.10.12"
  },
  "orig_nbformat": 4
 },
 "nbformat": 4,
 "nbformat_minor": 2
}
